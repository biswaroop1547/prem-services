{
 "cells": [
  {
   "attachments": {},
   "cell_type": "markdown",
   "metadata": {},
   "source": [
    "### Dependencies\n",
    "\n",
    "```\n",
    "pip install langchain\n",
    "pip install openai\n",
    "```"
   ]
  },
  {
   "cell_type": "code",
   "execution_count": 54,
   "metadata": {},
   "outputs": [],
   "source": [
    "import os\n",
    "\n",
    "from langchain.chat_models import ChatOpenAI\n",
    "from langchain.schema import AIMessage, HumanMessage\n",
    "\n",
    "os.environ[\"OPENAI_API_KEY\"] = \"random-string\""
   ]
  },
  {
   "cell_type": "code",
   "execution_count": 55,
   "metadata": {},
   "outputs": [],
   "source": [
    "chat = ChatOpenAI(openai_api_base=\"http://localhost:8000/api/v1\", max_tokens=128)"
   ]
  },
  {
   "attachments": {},
   "cell_type": "markdown",
   "metadata": {},
   "source": []
  },
  {
   "cell_type": "code",
   "execution_count": 56,
   "metadata": {},
   "outputs": [
    {
     "data": {
      "text/plain": [
       "AIMessage(content=' Sure! A large language model is a type of artificial intelligence (AI) model that is trained on a massive amount of text data to learn the patterns and structures of human language. The goal of training such a model is to enable it to generate natural-sounding, coherent text when given a prompt or input.\\n\\nLarge language models are typically made up of many layers of artificial neural networks, which are designed to mimic the way that the human brain processes information. By using these networks, the model can learn to predict the next word in a sentence, or even generate entirely new sentences based on what it has', additional_kwargs={}, example=False)"
      ]
     },
     "execution_count": 56,
     "metadata": {},
     "output_type": "execute_result"
    }
   ],
   "source": [
    "messages = [\n",
    "    HumanMessage(content=\"Can you explain what is a large language model?\")\n",
    "]\n",
    "chat(messages)"
   ]
  },
  {
   "cell_type": "code",
   "execution_count": 57,
   "metadata": {},
   "outputs": [
    {
     "data": {
      "text/plain": [
       "AIMessage(content=' Large language models have many benefits, but also require access to vast amounts of text data, computational resources, and should be trained with responsible and ethical handling of personal data.', additional_kwargs={}, example=False)"
      ]
     },
     "execution_count": 57,
     "metadata": {},
     "output_type": "execute_result"
    }
   ],
   "source": [
    "messages = [\n",
    "    HumanMessage(content=\"Can you explain what is a large language model?\"),\n",
    "    AIMessage(content=\"Sure! A large language model is a class of machine learning models that are trained on very large amounts of text data. The goal of training these models is to create a representation of human language that can be used for various natural language processing tasks, such as text generation, question- Answering and sentiment analysis. These models typically consist of several layers of neural networks, with each layer representing a different aspect of language (e.g., word meaning, syntax, context). As the model gets larger, it has the ability to learn more abstract representations of language that are more representative of human language understanding.\"),\n",
    "    HumanMessage(content=\"Can you give some examples applications?\"),\n",
    "    AIMessage(content=\"\"\"\n",
    "Large language models have a wide range of applications in natural language processing, here are a few examples:\n",
    "\n",
    "1. Text generation: Large language models can be used to generate text that sounds like it was written by a human, such as chatbot responses or summaries of long articles.\n",
    "2. Question-Answering: Large language models can be trained to answer questions based on the information in a large dataset of text. This is often used in virtual assistants and search engines.\n",
    "3. Sentiment analysis: Large language models can be used to understand the sentiment behind a piece of text, such as a customer review or social media post.\n",
    "4. Translation: Large language models can be trained to translate text from one language to another, using large amounts of training data from both languages.\n",
    "5. Dialogue System: Large language model can help in building dialogue system which can have human-like conversations with users.\n",
    "6. Language Modeling: Large language models are used for language modeling task where they are able to mimic the way humans produce and process natural language.\n",
    "\"\"\"),\n",
    "    HumanMessage(content=\"Are there any limitations?\"),\n",
    "    AIMessage(content=\"\"\"\n",
    "While large language models have many benefits, there are also some limitations that should be considered:\n",
    "\n",
    "1. Large datasets required: Training a large language model requires access to vast amounts of text data, which can be difficult or expensive to obtain.\n",
    "2. Computational resources required: Training and using large language models requires significant computational resources, which may not always be available.\n",
    "3. Privacy concerns: Training large language models on personal data can raise privacy concerns. It is important to ensure that the data used for training is handled responsibly and ethically.\n",
    "\"\"\"),\n",
    "    HumanMessage(content=\"Summarize the above in two sentences.\"),\n",
    "\n",
    "]\n",
    "chat(messages)"
   ]
  },
  {
   "cell_type": "code",
   "execution_count": 58,
   "metadata": {},
   "outputs": [
    {
     "data": {
      "text/plain": [
       "AIMessage(content=\" Once upon a time, there was a young man named Jack who dreamed of becoming a superstar. Despite facing numerous obstacles and setbacks, he never gave up on his goal.\\n\\nOne day, an opportunity came knocking at his door. A local music producer had been scouting for new talent and was impressed by Jack's singing skills. He offered him a recording contract that same day.\\n\\nAs Jack's fame grew, so did his ambition. He dreamed of becoming the next big thing in the music industry, and he was determined to make it happen. He worked tire\", additional_kwargs={}, example=False)"
      ]
     },
     "execution_count": 58,
     "metadata": {},
     "output_type": "execute_result"
    }
   ],
   "source": [
    "messages = [\n",
    "    HumanMessage(content=\"Write me a story about a superstar.\")\n",
    "]\n",
    "chat(messages)"
   ]
  }
 ],
 "metadata": {
  "kernelspec": {
   "display_name": "venv",
   "language": "python",
   "name": "python3"
  },
  "language_info": {
   "codemirror_mode": {
    "name": "ipython",
    "version": 3
   },
   "file_extension": ".py",
   "mimetype": "text/x-python",
   "name": "python",
   "nbconvert_exporter": "python",
   "pygments_lexer": "ipython3",
   "version": "3.10.11"
  },
  "orig_nbformat": 4
 },
 "nbformat": 4,
 "nbformat_minor": 2
}
